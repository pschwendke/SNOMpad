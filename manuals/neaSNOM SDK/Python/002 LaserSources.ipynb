{
 "cells": [
  {
   "cell_type": "markdown",
   "metadata": {},
   "source": [
    "Laser Sources"
   ]
  },
  {
   "cell_type": "code",
   "execution_count": 1,
   "metadata": {},
   "outputs": [
    {
     "name": "stdout",
     "output_type": "stream",
     "text": [
      "> Redirecting unknown loading assembly System.Runtime.CompilerServices.Unsafe, Version=4.0.4.1, Culture=neutral, PublicKeyToken=b03f5f7f11d50a3a\n",
      "> Configuration in local file C:\\Users\\Patrick\\AppData\\Local\\Python_Software_Foundatio\\DefaultDomain_Path_mndturxegrmy5qhqcgfnwau3k5cajhfi\\3.7.7\\user.config\n",
      "> Loaded from database group: Nea.Client.Hardware.Microscope.Properties.Settings\n",
      "> Loaded from database group: Nea.Client.Hardware.Camera.Properties.Settings\n",
      "> No camera found. Discovery result: Success\n",
      "> Waiting for initialization...\n",
      "> Trying to connect to 127.0.0.1\n",
      "> Trying to connect to 127.0.0.1\n",
      "> Trying to connect to 127.0.0.1\n",
      "> Connected to 127.0.0.1\n",
      "> Connected to 127.0.0.1\n",
      "> Connected to 127.0.0.1\n",
      "> Receive thread (Nea.Client.Hardware.MotorRpc) started.\n",
      "> Receive thread (Nea.Client.Hardware.Rpc) started.\n",
      "> Receive thread (Nea.Client.Hardware.PreviewRpc) started.\n",
      "> Client 1.10.7123 is incompatible with Server 1.10.7131.\n",
      "> Client 1.10.7123 is incompatible with Server 1.10.7131.\n",
      "> Client 1.10.7123 is incompatible with Server 1.10.7131.\n",
      "> Server Fingerprint: [00313679-3dbe-4d4a-9105-16835504fc97] has authenticated: True\n",
      "> Server Fingerprint: [00313679-3dbe-4d4a-9105-16835504fc97] has authenticated: True\n",
      "> Server Fingerprint: [00313679-3dbe-4d4a-9105-16835504fc97] has authenticated: True\n",
      "> Already in initialized state.\n",
      "> + RpcPreview (001)\n",
      "> Loaded from database group: Nea.Client.SDK.Properties.Settings\n",
      "> Failed to change shutter INVALID_HANDLE\n",
      "> Failed to change shutter software automatic INVALID_HANDLE\n",
      "> Application Context initialized\n"
     ]
    }
   ],
   "source": [
    "import asyncio\n",
    "import neaspec\n",
    "import configuration as config\n",
    "\n",
    "context = await neaspec.connect(config.db, config.vm, config.dll)"
   ]
  },
  {
   "cell_type": "markdown",
   "metadata": {},
   "source": [
    "The property `AvailableLaserSources` provides all laser sources that are available in the current sphere."
   ]
  },
  {
   "cell_type": "code",
   "execution_count": 12,
   "metadata": {},
   "outputs": [
    {
     "name": "stdout",
     "output_type": "stream",
     "text": [
      "[Mule, Nea.Client.Hardware.LaserSource.Mule] [MuleSCIR, Nea.Client.Hardware.LaserSource.Mule] [FemtoFiberArm1, Nea.Client.Hardware.LaserSource.FemtoFiber] [MuleIR, Nea.Client.Hardware.LaserSource.Mule]\n"
     ]
    }
   ],
   "source": [
    "# shows a dictionary, with laser soruce id as key \n",
    "print(*context.Logic.AvailableLaserSources)"
   ]
  },
  {
   "cell_type": "code",
   "execution_count": 13,
   "metadata": {},
   "outputs": [
    {
     "name": "stdout",
     "output_type": "stream",
     "text": [
      "4.5-15 µm nano‑FTIR Laser\n",
      "None\n",
      "1.55 µm nano‑FTIR laser\n"
     ]
    }
   ],
   "source": [
    "import Nea.Client.SharedDefinitions as nea\n",
    "mule = context.Logic.AvailableLaserSources[nea.LaserSourceId.Mule]\n",
    "print(mule.Name)\n",
    "print(mule.Wavelength)\n",
    "\n",
    "success, femtofiber = context.Logic.AvailableLaserSources.TryGetValue(nea.LaserSourceId.FemtoFiberArm1, None)\n",
    "if success:\n",
    "    print(femtofiber.Name)\n",
    "else:\n",
    "    print(\"No femtofiber\")"
   ]
  },
  {
   "cell_type": "markdown",
   "metadata": {},
   "source": [
    "In order to select a laser source:"
   ]
  },
  {
   "cell_type": "code",
   "execution_count": 14,
   "metadata": {},
   "outputs": [
    {
     "name": "stdout",
     "output_type": "stream",
     "text": [
      "> Approving changing laser source is unhandled and will be refused!\r\n"
     ]
    }
   ],
   "source": [
    "context.Logic.ChangeLaserSource.Execute(mule)"
   ]
  },
  {
   "cell_type": "markdown",
   "metadata": {},
   "source": [
    "For safety some laser sources or laser source configurations require the user to confirm the activation. \n",
    "In the neaSCAN application a popup windows would appear. In those cases where the script runs independently the selection fails with an error message. You can register callbacks in order to implement your own user approval."
   ]
  },
  {
   "cell_type": "code",
   "execution_count": 21,
   "metadata": {},
   "outputs": [
    {
     "name": "stdout",
     "output_type": "stream",
     "text": [
      "Do you really want to change the laser source?\n",
      "None -> Nea.Client.Hardware.LaserSource.Mule\n",
      "Approved: False\n",
      "Laser source after change: None\n"
     ]
    }
   ],
   "source": [
    "# This function will be called whenever changing the laser source\n",
    "# needs user approval (e.g. safety glasses, filters, etc...) \n",
    "def onApprovingChangingLaserSource(args) -> sdk.TaskOf[bool]:\n",
    "    print(f'Do you really want to change the laser source?')\n",
    "    print(f'{args.OldValue} -> {args.NewValue}')\n",
    "\n",
    "    task = sdk.TaskOf[bool].FromResult(False) # or True\n",
    "    # Asynchronously prompt user YES/NO\n",
    "    \n",
    "    print(f'Approved: {task.Result}');\n",
    "    return task\n",
    "\n",
    "\n",
    "context.Logic.ApprovingChangingLaserSource = nea.ApprovingChangingLaserSource(onApprovingChangingLaserSource)\n",
    "\n",
    "context.Logic.ChangeLaserSource.Execute(mule)\n",
    "print(f'Laser source after change: {context.Logic.LaserSource}')"
   ]
  },
  {
   "cell_type": "code",
   "execution_count": null,
   "metadata": {},
   "outputs": [],
   "source": []
  }
 ],
 "metadata": {
  "kernelspec": {
   "display_name": "Python 3",
   "language": "python",
   "name": "python3"
  },
  "language_info": {
   "codemirror_mode": {
    "name": "ipython",
    "version": 3
   },
   "file_extension": ".py",
   "mimetype": "text/x-python",
   "name": "python",
   "nbconvert_exporter": "python",
   "pygments_lexer": "ipython3",
   "version": "3.7.7"
  }
 },
 "nbformat": 4,
 "nbformat_minor": 4
}
