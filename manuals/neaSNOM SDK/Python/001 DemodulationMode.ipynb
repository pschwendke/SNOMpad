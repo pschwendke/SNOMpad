{
 "cells": [
  {
   "cell_type": "code",
   "execution_count": 1,
   "metadata": {
    "scrolled": false
   },
   "outputs": [
    {
     "name": "stdout",
     "output_type": "stream",
     "text": [
      "> Redirecting unknown loading assembly System.Runtime.CompilerServices.Unsafe, Version=4.0.4.1, Culture=neutral, PublicKeyToken=b03f5f7f11d50a3a\n",
      "> Configuration in local file C:\\Users\\Patrick\\AppData\\Local\\Python_Software_Foundatio\\DefaultDomain_Path_mndturxegrmy5qhqcgfnwau3k5cajhfi\\3.7.7\\user.config\n",
      "> Loaded from database group: Nea.Client.Hardware.Microscope.Properties.Settings\n",
      "> Loaded from database group: Nea.Client.Hardware.Camera.Properties.Settings\n",
      "> No camera found. Discovery result: Success\n",
      "> Waiting for initialization...\n",
      "> Trying to connect to 127.0.0.1\n",
      "> Trying to connect to 127.0.0.1\n",
      "> Trying to connect to 127.0.0.1\n",
      "> Connected to 127.0.0.1\n",
      "> Connected to 127.0.0.1\n",
      "> Connected to 127.0.0.1\n",
      "> Receive thread (Nea.Client.Hardware.PreviewRpc) started.\n",
      "> Receive thread (Nea.Client.Hardware.MotorRpc) started.\n",
      "> Receive thread (Nea.Client.Hardware.Rpc) started.\n",
      "> Client 1.10.7395 is incompatible with Server 1.10.7397.\n",
      "> Client 1.10.7395 is incompatible with Server 1.10.7397.\n",
      "> Server Fingerprint: [00313679-3dbe-4d4a-9105-16835504fc97] has authenticated: True\n",
      "> Server Fingerprint: [00313679-3dbe-4d4a-9105-16835504fc97] has authenticated: True\n",
      "> Client 1.10.7395 is incompatible with Server 1.10.7397.\n",
      "> Server Fingerprint: [00313679-3dbe-4d4a-9105-16835504fc97] has authenticated: True\n",
      "> Already in initialized state.\n",
      "> + RpcPreview (001)\n",
      "> Clear RpcPreview (001) will not change ScanParameters, this could be a bug (did you forget to spawn?)\n",
      "> Loaded from database group: Nea.Client.SDK.Properties.Settings\n",
      "> Failed to change shutter INVALID_HANDLE\n",
      "> Failed to change shutter software automatic INVALID_HANDLE\n",
      "> Application Context initialized\n"
     ]
    }
   ],
   "source": [
    "import asyncio\n",
    "import neaspec\n",
    "import configuration as config\n",
    "\n",
    "await neaspec.connect(config.db, config.vm, config.dll)\n",
    "\n",
    "from neaspec import context"
   ]
  },
  {
   "cell_type": "markdown",
   "metadata": {},
   "source": [
    "# DemodulationMode\n",
    "\n",
    "The `DemodulationMode` specifies how to demodulate the signals from the detectors."
   ]
  },
  {
   "cell_type": "code",
   "execution_count": 2,
   "metadata": {},
   "outputs": [
    {
     "name": "stdout",
     "output_type": "stream",
     "text": [
      "None PsHet Plugin Fourier TipForce KelvinProbeAdvanced PhotoThermalExpansionAdvanced AdvancedSoftMatterAdvanced ThermalAnalysis Storyboard ClassicalPhotoThermalExpansion PhotoThermalExpansion PluginAdvanced KelvinProbe ContactMode ThermalAnalysisAdvanced AdvancedSoftMatter PiezoResponse\n"
     ]
    }
   ],
   "source": [
    "import Nea.Client.SharedDefinitions as nea\n",
    "import System\n",
    "\n",
    "# shows all pre-installed demodulation modes \n",
    "print(*System.Enum.GetNames(nea.DemodulationMode))"
   ]
  },
  {
   "cell_type": "code",
   "execution_count": 7,
   "metadata": {},
   "outputs": [
    {
     "name": "stdout",
     "output_type": "stream",
     "text": [
      "0xd0a252eb31f5\n",
      "Fourier\n"
     ]
    }
   ],
   "source": [
    "# reads which mode is currently active\n",
    "mode = context.Microscope.DemodulationMode\n",
    "\n",
    "# displays the numerical identifier (64-bit)\n",
    "print(hex(mode))\n",
    "\n",
    "# translates the id of a pre-installed mode to a human readable string or \"None\" for all others\n",
    "print(System.Enum.GetName(nea.DemodulationMode, System.UInt64(mode)))\n",
    "\n",
    "# changes the demodulation mode\n",
    "context.Microscope.ChangeDemodulationMode.Execute(nea.DemodulationMode.Fourier)"
   ]
  },
  {
   "cell_type": "markdown",
   "metadata": {},
   "source": [
    "## Parameters\n",
    "\n",
    "Some modes provide additional parameters: They can be accessed by name through the dictionary `DemodulationModeParameters`:"
   ]
  },
  {
   "cell_type": "code",
   "execution_count": 4,
   "metadata": {},
   "outputs": [
    {
     "name": "stdout",
     "output_type": "stream",
     "text": [
      "QualityFactor CantileverStiffness CantileverLength CantileverWidth CurrentWavelength\n",
      "[nan, 0.01624513105859481, 5.499999999999998, 2.8000000000000003, nan]\n",
      "CantileverStiffness: 0,0162451310585948 (double)\n",
      "MIN/MAX: 2.2250738585072E-308 1.79769313486232E+308\n",
      "0.1123\n",
      "0.1123\n"
     ]
    }
   ],
   "source": [
    "# Show all parameters in the current demodulation mode \n",
    "print(*context.Microscope.DemodulationModeParameters.Keys)\n",
    "print([parameter.Value for parameter in context.Microscope.DemodulationModeParameters.Values])\n",
    "\n",
    "stiffness = context.Microscope.DemodulationModeParameters[\"CantileverStiffness\"]\n",
    "print(stiffness)\n",
    "\n",
    "# the object contains also metadata about the parameter\n",
    "print(f'MIN/MAX: {stiffness.Range}')\n",
    "\n",
    "# changes the value and blocks until done\n",
    "stiffness.ChangeValue(0.1123).Wait()\n",
    "\n",
    "# shows the last known (cached) value\n",
    "print(stiffness.Value)\n",
    "\n",
    "# refreshes and blocks until done\n",
    "stiffness.Refresh().Wait()\n",
    "\n",
    "# refreshes the value and blocks\n",
    "print(stiffness.GetCurrentValue().Result)\n",
    "\n",
    "#async def setParameterValue(parameter, value): return parameter.ChangeValue(value).Result\n",
    "#await asyncio.create_task(setParameterValueAsync(stiffness, 0.005))"
   ]
  },
  {
   "cell_type": "markdown",
   "metadata": {},
   "source": [
    "   ## Create a customized demodulation mode (Storyboard)\n",
    "   \n",
    "   You can create a JSON string that defines the characteristics of the demodulation (*Storyboard*) and store it in the database. You can keep its id and reuse it the next time."
   ]
  },
  {
   "cell_type": "code",
   "execution_count": 3,
   "metadata": {},
   "outputs": [],
   "source": [
    "import json\n",
    "\n",
    "storyboard = {\n",
    "    \"Inputs\" : {\n",
    "        # Possible options:\n",
    "        # \"NoDataAcquisition\", \"Daq_1024_2500ksps\", \"Daq_2048_5Msps\", \"Daq_4096_10Msps\", \n",
    "        \"Mechanical\" : \"Daq_2048_5Msps\",\n",
    "        \"Optical\"    : \"Daq_1024_2500ksps\",\n",
    "        \"A\"          : \"Daq_1024_2500ksps\",\n",
    "        \"B\"          : \"Daq_1024_2500ksps\",\n",
    "    },\n",
    "    \"Channels\" : {\n",
    "        \"Mechanical\" : {\n",
    "            0 : 0.0,  # DC\n",
    "            1 : context.Microscope.HeadFrequency, \n",
    "            2 : context.Microscope.HeadFrequency * 2.0, \n",
    "        }\n",
    "    }\n",
    "}\n",
    "\n",
    "insertTask = context.Database.InsertStoryboard(json.dumps(storyboard), \"My Test\")\n",
    "\n",
    "\n",
    "arguments = nea.DemodulationModeArguments()\n",
    "arguments.Add(\"StoryboardId\", insertTask.Result)\n",
    "\n",
    "setModeTask = context.Microscope.SetDemodulationModeAsync(\"Storyboard\", arguments)\n",
    "setModeTask.Wait()\n",
    "\n"
   ]
  },
  {
   "cell_type": "code",
   "execution_count": 5,
   "metadata": {},
   "outputs": [
    {
     "name": "stdout",
     "output_type": "stream",
     "text": [
      "> Disposing...\n",
      "> Dispose RpcPreview (001)\n",
      "> Preview ending.\n",
      "> Send thread (Nea.Client.Hardware.PreviewRpc) stopped.\n",
      "> Receive thread (Nea.Client.Hardware.PreviewRpc) stopped.\n",
      "> Send thread (Nea.Client.Hardware.MotorRpc) stopped.\n",
      "> Receive thread (Nea.Client.Hardware.MotorRpc) stopped.\n",
      "> Send thread (Nea.Client.Hardware.Rpc) stopped.\n",
      "> Receive thread (Nea.Client.Hardware.Rpc) stopped.\n"
     ]
    }
   ],
   "source": [
    "context.Dispose()"
   ]
  },
  {
   "cell_type": "code",
   "execution_count": null,
   "metadata": {},
   "outputs": [],
   "source": []
  }
 ],
 "metadata": {
  "kernelspec": {
   "display_name": "Python 3",
   "language": "python",
   "name": "python3"
  },
  "language_info": {
   "codemirror_mode": {
    "name": "ipython",
    "version": 3
   },
   "file_extension": ".py",
   "mimetype": "text/x-python",
   "name": "python",
   "nbconvert_exporter": "python",
   "pygments_lexer": "ipython3",
   "version": "3.7.7"
  }
 },
 "nbformat": 4,
 "nbformat_minor": 2
}
