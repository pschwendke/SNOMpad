{
 "cells": [
  {
   "cell_type": "markdown",
   "metadata": {},
   "source": [
    "# Find Resonant Tip Frequency"
   ]
  },
  {
   "cell_type": "code",
   "execution_count": 1,
   "metadata": {},
   "outputs": [
    {
     "name": "stdout",
     "output_type": "stream",
     "text": [
      "> Redirecting unknown loading assembly System.Runtime.CompilerServices.Unsafe, Version=4.0.4.1, Culture=neutral, PublicKeyToken=b03f5f7f11d50a3a\n",
      "> Configuration in local file C:\\Users\\Patrick\\AppData\\Local\\Python_Software_Foundatio\\DefaultDomain_Path_mndturxegrmy5qhqcgfnwau3k5cajhfi\\3.7.7\\user.config\n",
      "> Loaded from database group: Nea.Client.Hardware.Microscope.Properties.Settings\n",
      "> Loaded from database group: Nea.Client.Hardware.Camera.Properties.Settings\n",
      "> No camera found. Discovery result: Success\n",
      "> Waiting for initialization...\n",
      "> Trying to connect to 127.0.0.1\n",
      "> Trying to connect to 127.0.0.1\n",
      "> Trying to connect to 127.0.0.1\n",
      "> Connected to 127.0.0.1\n",
      "> Connected to 127.0.0.1\n",
      "> Connected to 127.0.0.1\n",
      "> Receive thread (Nea.Client.Hardware.MotorRpc) started.\n",
      "> Receive thread (Nea.Client.Hardware.PreviewRpc) started.\n",
      "> Client 1.10.7123 is incompatible with Server 1.10.7131.\n",
      "> Client 1.10.7123 is incompatible with Server 1.10.7131.\n",
      "> Receive thread (Nea.Client.Hardware.Rpc) started.\n",
      "> Client 1.10.7123 is incompatible with Server 1.10.7131.\n",
      "> Server Fingerprint: [00313679-3dbe-4d4a-9105-16835504fc97] has authenticated: True\n",
      "> Server Fingerprint: [00313679-3dbe-4d4a-9105-16835504fc97] has authenticated: True\n",
      "> Server Fingerprint: [00313679-3dbe-4d4a-9105-16835504fc97] has authenticated: True\n",
      "> Already in initialized state.\n",
      "> + RpcPreview (001)\n",
      "> Loaded from database group: Nea.Client.SDK.Properties.Settings\n",
      "> Failed to change shutter INVALID_HANDLE\n",
      "> Failed to change shutter software automatic INVALID_HANDLE\n",
      "> Application Context initialized\n"
     ]
    }
   ],
   "source": [
    "import asyncio\n",
    "import neaspec\n",
    "import configuration as config\n",
    "\n",
    "context = await neaspec.connect(config.db, config.vm, config.dll)"
   ]
  },
  {
   "cell_type": "markdown",
   "metadata": {},
   "source": [
    "When subscribing for receiving notifications e.g. `Logic.ResonantFrequencyFound` it is very important to unsubscribe. Therefore we can wrap the sweep in a class with Enter/Exit functions."
   ]
  },
  {
   "cell_type": "code",
   "execution_count": 2,
   "metadata": {},
   "outputs": [],
   "source": [
    "import Nea.Client.SharedDefinitions as shared\n",
    "\n",
    "class Sweep:\n",
    "\tdef onSweepSucceeded(self, o, e):\n",
    "\t\tprint(f'Resonant Frequency Found: {e.ResonantFrequency} Hz')\n",
    "\t\tself.res_frequ = e.ResonantFrequency\n",
    "\t\tself.res_ampli = e.AmplitudeOfResonantFrequency\n",
    "\t\tself.res_phase = e.PhaseOfResonantFrequency\n",
    "\t\tself.isSweeping = False\n",
    "\n",
    "\tdef onSweepFailed(self, o, e):\n",
    "\t\tprint(f'Resonant Frequency Not Found, but Maximum at: {e.ResonantFrequency} Hz')\n",
    "\t\tself.isSweeping = False\n",
    "\n",
    "\tdef __init__ (self, f_start, f_end):\n",
    "\t\tself.frequencyRange = shared.Range.FromOffsetAndLength(f_start, f_end - f_start)\n",
    "\t\t\n",
    "        # Check if it currently possible to sweep (retracted out of contacted etc...)\n",
    "\t\tif context.Logic.FindResonantFrequency.CanExecute(self.frequencyRange):\n",
    "\t\t\tcontext.Logic.FindResonantFrequency.Execute(self.frequencyRange)\n",
    "\t\t\tprint(f'Started to sweep in the range {self.frequencyRange.Low/1e3} ... {self.frequencyRange.High/1e3} kHz!')\n",
    "\t\t\tself.isSweeping = True\n",
    "\t\telse:\n",
    "\t\t\tprint(\"Cannot sweep in the current state\")\n",
    "\t\t\tself.isSweeping = False\n",
    "\n",
    "\tdef __enter__ (self):            \n",
    "        # Subscribe to events\n",
    "\t\tcontext.Logic.ResonantFrequencyFound += self.onSweepSucceeded\n",
    "\t\tcontext.Logic.FailedToFindResonantFrequency += self.onSweepFailed\n",
    "\t\treturn self\n",
    "\t\n",
    "\tdef __exit__(self, exception_type, exception_value, traceback):\n",
    "        # Unsubscribe from events\n",
    "\t\tcontext.Logic.ResonantFrequencyFound -= self.onSweepSucceeded\n",
    "\t\tcontext.Logic.FailedToFindResonantFrequency -= self.onSweepFailed\n"
   ]
  },
  {
   "cell_type": "code",
   "execution_count": 3,
   "metadata": {},
   "outputs": [
    {
     "name": "stdout",
     "output_type": "stream",
     "text": [
      "Started to sweep in the range 260.0 ... 270.0 kHz!\n",
      "260400.0\t5.361146450042725\n",
      "260800.0\t4.982727527618408\n",
      "261180.0\t4.658880233764648\n",
      "261560.0\t4.36388635635376\n",
      "261920.0\t4.110353469848633\n",
      "262360.0\t3.8289902210235596\n",
      "262740.0\t3.6089887619018555\n",
      "263100.0\t3.417056083679199\n",
      "263460.0\t3.240084648132324\n",
      "263840.0\t3.066762685775757\n",
      "264240.0\t2.8996760845184326\n",
      "264620.0\t2.7541964054107666\n",
      "265000.0\t2.6188082695007324\n",
      "265380.0\t2.493584156036377\n",
      "265760.0\t2.3766677379608154\n",
      "266120.0\t2.273970127105713\n",
      "266500.0\t2.17165470123291\n",
      "266860.0\t2.0815823078155518\n",
      "267240.0\t1.9925411939620972\n",
      "267640.0\t1.9051493406295776\n",
      "268060.0\t1.819404125213623\n",
      "268440.0\t1.7470018863677979\n",
      "268800.0\t1.681541919708252\n",
      "269200.0\t1.6136181354522705\n",
      "269600.0\t1.5498039722442627\n",
      "269960.0\t1.4958199262619019\n",
      "Resonant Frequency Not Found, but Maximum at: 260020.0 Hz\n",
      "249455.1238328682\t140.2034912109375\n",
      "Output after sweep: 249455.1238328682 Hz\n"
     ]
    }
   ],
   "source": [
    "from time import sleep\n",
    "\n",
    "# sweep will start immediately and run in the background\n",
    "with Sweep(260000, 270000) as sweep:\n",
    "\n",
    "    # display the status\n",
    "    while sweep.isSweeping:\n",
    "        sleep(1)\n",
    "        print(f'{context.Microscope.HeadFrequency}\\t{context.Microscope.MechanicalAmplitude}') \n",
    "\n",
    "\n",
    "# after resonance successfully detected, \n",
    "# the resonance frequency is set automatically.\n",
    "sleep(2)\n",
    "print(f'Output after sweep: {context.Microscope.HeadFrequency} Hz')\n",
    "\n"
   ]
  },
  {
   "cell_type": "markdown",
   "metadata": {},
   "source": []
  },
  {
   "cell_type": "code",
   "execution_count": null,
   "metadata": {},
   "outputs": [],
   "source": []
  }
 ],
 "metadata": {
  "kernelspec": {
   "display_name": "Python 3",
   "language": "python",
   "name": "python3"
  },
  "language_info": {
   "codemirror_mode": {
    "name": "ipython",
    "version": 3
   },
   "file_extension": ".py",
   "mimetype": "text/x-python",
   "name": "python",
   "nbconvert_exporter": "python",
   "pygments_lexer": "ipython3",
   "version": "3.7.9"
  }
 },
 "nbformat": 4,
 "nbformat_minor": 4
}
