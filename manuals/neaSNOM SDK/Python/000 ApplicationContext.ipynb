{
 "cells": [
  {
   "cell_type": "markdown",
   "metadata": {},
   "source": [
    "# ApplicationContext\n",
    "\n",
    "The `ApplicationContext` structure provides access to the database as well as all hardware components and procedures (auto approach, alignments, scan, etc... ).\n",
    "\n",
    "In order to create an `ApplicationContext` you need:\n",
    "\n",
    "* Hostname of the database (centralized server or single controller)\n",
    "* Unique id of the controller that you want to remote control\n",
    "  (You can find the id from `/etc/neaspec/uuid` or the log output of the server)\n",
    "* Path to shared library `Nea.Client.SDK.dll` (this is where the neaSNOM application is installed)\n",
    "\n",
    "I recommend using `nea_sdk_types.py` as demonstrated in the examples below. Nevertheless it is not required. \n"
   ]
  },
  {
   "cell_type": "code",
   "execution_count": 1,
   "metadata": {},
   "outputs": [
    {
     "name": "stdout",
     "output_type": "stream",
     "text": [
      "> Redirecting unknown loading assembly System.Runtime.CompilerServices.Unsafe, Version=4.0.4.1, Culture=neutral, PublicKeyToken=b03f5f7f11d50a3a\n",
      "Active Controller: nea-server-vm\n",
      "> Configuration in local file C:\\Users\\Patrick\\AppData\\Local\\Python_Software_Foundatio\\DefaultDomain_Path_mndturxegrmy5qhqcgfnwau3k5cajhfi\\3.7.7\\user.config\n",
      "> Loaded from database group: Nea.Client.Hardware.Microscope.Properties.Settings\n",
      "> Loaded from database group: Nea.Client.Hardware.Camera.Properties.Settings\n",
      "> No camera found. Discovery result: Success\n",
      "> Waiting for initialization...\n",
      "> Trying to connect to 127.0.0.1\n",
      "> Trying to connect to 127.0.0.1\n",
      "> Trying to connect to 127.0.0.1\n",
      "> Connected to 127.0.0.1\n",
      "> Connected to 127.0.0.1\n",
      "> Connected to 127.0.0.1\n",
      "> Receive thread (Nea.Client.Hardware.Rpc) started.\n",
      "> Receive thread (Nea.Client.Hardware.PreviewRpc) started.\n",
      "> Receive thread (Nea.Client.Hardware.MotorRpc) started.\n",
      "> Client 1.10.7123 is incompatible with Server 1.10.7131.\n",
      "> Client 1.10.7123 is incompatible with Server 1.10.7131.\n",
      "> Client 1.10.7123 is incompatible with Server 1.10.7131.\n",
      "> Server Fingerprint: [00313679-3dbe-4d4a-9105-16835504fc97] has authenticated: True\n",
      "> Server Fingerprint: [00313679-3dbe-4d4a-9105-16835504fc97] has authenticated: True\n",
      "> Server Fingerprint: [00313679-3dbe-4d4a-9105-16835504fc97] has authenticated: True\n",
      "> Already in initialized state.\n",
      "> + RpcPreview (001)\n",
      "> Loaded from database group: Nea.Client.SDK.Properties.Settings\n",
      "> Failed to change shutter INVALID_HANDLE\n",
      "> Failed to change shutter software automatic INVALID_HANDLE\n",
      "> Application Context initialized\n"
     ]
    }
   ],
   "source": [
    "import asyncio\n",
    "import neaspec\n",
    "import configuration as config\n",
    "\n",
    "context = await neaspec.connect(config.db, config.vm, config.dll)\n",
    "\n",
    "print(\"Active Controller: \" + context.Database.ActiveController.Name)"
   ]
  },
  {
   "cell_type": "markdown",
   "metadata": {},
   "source": [
    "## ActiveProject\n",
    "\n",
    "When searching the database, you can only see scans from the `ActiveProject` and new scans will always be stored in the project that was active before starting the scan.\n",
    "You can also change the active project. `SdkProject`, for instance, is supposed to contain scans made with the SDK only."
   ]
  },
  {
   "cell_type": "code",
   "execution_count": 3,
   "metadata": {},
   "outputs": [
    {
     "name": "stdout",
     "output_type": "stream",
     "text": [
      "Active Project: SDK\n"
     ]
    }
   ],
   "source": [
    "context.Database.ActiveProject = context.Database.SdkProject\n",
    "print(f'Active Project: {context.Database.ActiveProject.Name}')"
   ]
  },
  {
   "cell_type": "markdown",
   "metadata": {},
   "source": [
    "At the end dispose the context to disconnect . You cannot use the context after this point."
   ]
  },
  {
   "cell_type": "code",
   "execution_count": 4,
   "metadata": {},
   "outputs": [
    {
     "name": "stdout",
     "output_type": "stream",
     "text": [
      "> Disposing...\n",
      "> Dispose RpcPreview (001)\n",
      "> Preview ending.\n",
      "> Send thread (Nea.Client.Hardware.PreviewRpc) stopped.\n",
      "> Receive thread (Nea.Client.Hardware.PreviewRpc) stopped.\n",
      "> Send thread (Nea.Client.Hardware.MotorRpc) stopped.\n",
      "> Receive thread (Nea.Client.Hardware.MotorRpc) stopped.\n",
      "> Send thread (Nea.Client.Hardware.Rpc) stopped.\n",
      "> Receive thread (Nea.Client.Hardware.Rpc) stopped.\n"
     ]
    }
   ],
   "source": [
    "context.Dispose()"
   ]
  },
  {
   "cell_type": "code",
   "execution_count": null,
   "metadata": {},
   "outputs": [],
   "source": []
  }
 ],
 "metadata": {
  "kernelspec": {
   "display_name": "Python 3",
   "language": "python",
   "name": "python3"
  },
  "language_info": {
   "codemirror_mode": {
    "name": "ipython",
    "version": 3
   },
   "file_extension": ".py",
   "mimetype": "text/x-python",
   "name": "python",
   "nbconvert_exporter": "python",
   "pygments_lexer": "ipython3",
   "version": "3.7.7"
  }
 },
 "nbformat": 4,
 "nbformat_minor": 2
}
