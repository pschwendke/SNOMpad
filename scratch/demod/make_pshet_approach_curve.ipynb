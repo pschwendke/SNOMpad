{
 "cells": [
  {
   "cell_type": "code",
   "execution_count": null,
   "id": "29edd020",
   "metadata": {},
   "outputs": [],
   "source": [
    "import numpy as np\n",
    "import pandas as pd\n",
    "from glob import glob\n",
    "import matplotlib.pyplot as plt\n",
    "\n",
    "from trion.analysis.demod import pshet_coeff, pshet"
   ]
  },
  {
   "cell_type": "code",
   "execution_count": null,
   "id": "391e31d2",
   "metadata": {},
   "outputs": [],
   "source": [
    "date = '211109'\n",
    "folder = 'pshet_pulsed_ac_01'\n",
    "\n",
    "file_pattern = 'step_approach_*.npz'\n",
    "\n",
    "file_names = glob('../../data/' + date + '/' + folder + '/' + file_pattern)\n",
    "\n",
    "\n",
    "afm_file = '../../data/' + date + '/' + folder + '/afm_tracking.txt'\n",
    "afm_channels = ['z', 'amp']\n",
    "header = ['target'] + [c + '_pre' for c in afm_channels] + [c + '_post' for c in afm_channels] \n",
    "df = pd.read_csv(afm_file, sep=' ', skiprows=1, names=header)\n",
    "afm_avg = pd.DataFrame(df['target'])\n",
    "for c in afm_channels:\n",
    "    afm_avg[c] = (df[c + '_pre'] + df[c + '_post']) / 2"
   ]
  },
  {
   "cell_type": "code",
   "execution_count": null,
   "id": "bf001024",
   "metadata": {},
   "outputs": [],
   "source": [
    "def demodulate(files, nsamples: int, tap: int, ref: int) -> pd.DataFrame:\n",
    "    steps = []\n",
    "    for f in files:\n",
    "        ds = np.load(f)\n",
    "        df = pd.DataFrame({k: ds[k] for k in ds.keys()})\n",
    "        if not nsamples == 0:\n",
    "            df = df.iloc[:nsamples]\n",
    "        try:\n",
    "            binned_ft_avg = pshet(df, tap, ref)\n",
    "        except Exception as e:\n",
    "            if 'empty bins' in str(e):\n",
    "                return None\n",
    "            else:\n",
    "                raise\n",
    "        amps = np.abs(pshet_coeff(binned_ft_avg))\n",
    "        steps.append(np.squeeze(amps.to_numpy()))\n",
    "    curve_df = pd.DataFrame(steps)\n",
    "    \n",
    "    return curve_df\n",
    "\n",
    "def normalize(sig):\n",
    "    sig_0 = sig - sig.min()\n",
    "    norm = sig_0 / sig_0.max()\n",
    "    return norm\n",
    "\n",
    "def make_plot(df_daq: pd.DataFrame, df_afm: pd.DataFrame, harmonics):\n",
    "    lolim = 0\n",
    "    hilim = 50\n",
    "    height = df_afm.loc[lolim: hilim, 'target']*1e3\n",
    "    \n",
    "    plt.plot(height, normalize(df_afm.loc[lolim: hilim, 'amp']), label='amp', marker='.', lw=1)\n",
    "    \n",
    "    for h in harmonics:\n",
    "        plt.plot(height, normalize(df_daq.loc[lolim:hilim, h]), label='O'+str(h), marker='.', lw=1)\n",
    "    \n",
    "    plt.xlabel('z  / nm')\n",
    "    plt.ylabel('normalized signal  / arb.u.')\n",
    "    plt.title(folder)\n",
    "    plt.legend()\n",
    "    plt.savefig(date + '_approach_' + folder + '.png', dpi=300, bbox_inches='tight')\n",
    "    plt.show()"
   ]
  },
  {
   "cell_type": "code",
   "execution_count": null,
   "id": "b7edecd1",
   "metadata": {},
   "outputs": [],
   "source": [
    "nsamples = 0  # 0 for all available samples per pixel\n",
    "tap_nbins = 64\n",
    "ref_nbins = 64\n",
    "harmonics = [\n",
    "        1,\n",
    "        2,\n",
    "        3,\n",
    "        4\n",
    "    ]\n",
    "\n",
    "daq_data = demodulate(file_names, nsamples, tap_nbins, ref_nbins)\n",
    "make_plot(daq_data, afm_avg, harmonics)"
   ]
  },
  {
   "cell_type": "code",
   "execution_count": null,
   "id": "9a6ce82a",
   "metadata": {},
   "outputs": [],
   "source": []
  }
 ],
 "metadata": {
  "kernelspec": {
   "display_name": "Python 3 (ipykernel)",
   "language": "python",
   "name": "python3"
  },
  "language_info": {
   "codemirror_mode": {
    "name": "ipython",
    "version": 3
   },
   "file_extension": ".py",
   "mimetype": "text/x-python",
   "name": "python",
   "nbconvert_exporter": "python",
   "pygments_lexer": "ipython3",
   "version": "3.9.6"
  }
 },
 "nbformat": 4,
 "nbformat_minor": 5
}
