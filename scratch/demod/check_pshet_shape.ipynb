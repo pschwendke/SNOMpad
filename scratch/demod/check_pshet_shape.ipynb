{
 "cells": [
  {
   "cell_type": "code",
   "execution_count": 1,
   "id": "7ac0da9e-afa7-452c-9fe5-90772527a491",
   "metadata": {},
   "outputs": [],
   "source": [
    "import numpy as np\n",
    "import matplotlib.pyplot as plt\n",
    "from trion.analysis import demod\n",
    "from trion.analysis.signals import signal_colormap\n",
    "from matplotlib import colors, cm\n",
    "import pandas as pd\n",
    "from tqdm import tqdm\n",
    "import cmocean\n"
   ]
  },
  {
   "cell_type": "code",
   "execution_count": 2,
   "id": "ebecf59b-7fb2-489a-b6e4-9a9e7006f148",
   "metadata": {},
   "outputs": [],
   "source": [
    "nsig = 2\n",
    "npts = 50_000\n",
    "signals = np.random.randn(nsig, npts)\n",
    "tap_p = np.random.uniform(-np.pi, np.pi, npts)\n",
    "ref_p = np.random.uniform(-np.pi, np.pi, npts)\n",
    "dat = np.vstack((\n",
    "    signals,\n",
    "    np.cos(tap_p), \n",
    "    np.sin(tap_p),\n",
    "    np.cos(ref_p),\n",
    "    np.sin(ref_p),\n",
    ")).T\n",
    "assert dat.shape == (npts, nsig + 4)\n",
    "names = \"sig_a, sig_b, tap_x, tap_y, ref_x, ref_y\".split(\", \")\n",
    "df = pd.DataFrame(dat, columns=names)\n",
    "binned = demod.pshet_binning(df)\n",
    "coeffs = demod.pshet(df)\n",
    "assert coeffs.shape[0] == 32\n",
    "assert coeffs.shape[1] == (16//2+1)*nsig"
   ]
  },
  {
   "cell_type": "code",
   "execution_count": 12,
   "id": "51a4805d-551b-486a-8d0e-33c301c91257",
   "metadata": {},
   "outputs": [
    {
     "data": {
      "text/html": [
       "<div>\n",
       "<style scoped>\n",
       "    .dataframe tbody tr th:only-of-type {\n",
       "        vertical-align: middle;\n",
       "    }\n",
       "\n",
       "    .dataframe tbody tr th {\n",
       "        vertical-align: top;\n",
       "    }\n",
       "\n",
       "    .dataframe thead tr th {\n",
       "        text-align: left;\n",
       "    }\n",
       "</style>\n",
       "<table border=\"1\" class=\"dataframe\">\n",
       "  <thead>\n",
       "    <tr>\n",
       "      <th></th>\n",
       "      <th colspan=\"9\" halign=\"left\">sig_a</th>\n",
       "    </tr>\n",
       "    <tr>\n",
       "      <th></th>\n",
       "      <th>0</th>\n",
       "      <th>1</th>\n",
       "      <th>2</th>\n",
       "      <th>3</th>\n",
       "      <th>4</th>\n",
       "      <th>5</th>\n",
       "      <th>6</th>\n",
       "      <th>7</th>\n",
       "      <th>8</th>\n",
       "    </tr>\n",
       "  </thead>\n",
       "  <tbody>\n",
       "    <tr>\n",
       "      <th>0</th>\n",
       "      <td>0.003331+0.000000j</td>\n",
       "      <td>0.001450-0.000704j</td>\n",
       "      <td>-0.003222-0.002715j</td>\n",
       "      <td>0.003786-0.003823j</td>\n",
       "      <td>-0.001030-0.000511j</td>\n",
       "      <td>0.003500+0.000677j</td>\n",
       "      <td>0.004144+0.002396j</td>\n",
       "      <td>0.000524-0.000344j</td>\n",
       "      <td>0.002867+0.000000j</td>\n",
       "    </tr>\n",
       "    <tr>\n",
       "      <th>1</th>\n",
       "      <td>-0.006446-0.000274j</td>\n",
       "      <td>0.001625+0.000455j</td>\n",
       "      <td>0.001366+0.004387j</td>\n",
       "      <td>-0.001459+0.002619j</td>\n",
       "      <td>0.001875+0.000217j</td>\n",
       "      <td>0.003030-0.000523j</td>\n",
       "      <td>0.002554+0.003053j</td>\n",
       "      <td>-0.004849+0.000083j</td>\n",
       "      <td>-0.003624+0.005694j</td>\n",
       "    </tr>\n",
       "    <tr>\n",
       "      <th>2</th>\n",
       "      <td>-0.001100-0.006301j</td>\n",
       "      <td>-0.002426-0.000828j</td>\n",
       "      <td>-0.000694+0.001483j</td>\n",
       "      <td>0.003340-0.000779j</td>\n",
       "      <td>0.000822-0.003143j</td>\n",
       "      <td>-0.001256+0.002029j</td>\n",
       "      <td>0.003001+0.002720j</td>\n",
       "      <td>0.002942-0.000970j</td>\n",
       "      <td>-0.002978-0.002164j</td>\n",
       "    </tr>\n",
       "    <tr>\n",
       "      <th>3</th>\n",
       "      <td>0.000222+0.005545j</td>\n",
       "      <td>-0.003506-0.003926j</td>\n",
       "      <td>-0.001090+0.004167j</td>\n",
       "      <td>0.004451-0.002046j</td>\n",
       "      <td>0.002506+0.002054j</td>\n",
       "      <td>-0.000670+0.003976j</td>\n",
       "      <td>0.002968-0.001034j</td>\n",
       "      <td>0.002251+0.002068j</td>\n",
       "      <td>-0.000303+0.004345j</td>\n",
       "    </tr>\n",
       "    <tr>\n",
       "      <th>4</th>\n",
       "      <td>-0.008457-0.002926j</td>\n",
       "      <td>0.003132-0.005687j</td>\n",
       "      <td>0.002074+0.002590j</td>\n",
       "      <td>0.002692+0.002852j</td>\n",
       "      <td>0.004880+0.003161j</td>\n",
       "      <td>0.004223-0.004193j</td>\n",
       "      <td>-0.004945-0.000350j</td>\n",
       "      <td>-0.000013-0.000993j</td>\n",
       "      <td>-0.000790-0.003773j</td>\n",
       "    </tr>\n",
       "  </tbody>\n",
       "</table>\n",
       "</div>"
      ],
      "text/plain": [
       "                sig_a                                          \\\n",
       "                    0                   1                   2   \n",
       "0  0.003331+0.000000j  0.001450-0.000704j -0.003222-0.002715j   \n",
       "1 -0.006446-0.000274j  0.001625+0.000455j  0.001366+0.004387j   \n",
       "2 -0.001100-0.006301j -0.002426-0.000828j -0.000694+0.001483j   \n",
       "3  0.000222+0.005545j -0.003506-0.003926j -0.001090+0.004167j   \n",
       "4 -0.008457-0.002926j  0.003132-0.005687j  0.002074+0.002590j   \n",
       "\n",
       "                                                               \\\n",
       "                    3                   4                   5   \n",
       "0  0.003786-0.003823j -0.001030-0.000511j  0.003500+0.000677j   \n",
       "1 -0.001459+0.002619j  0.001875+0.000217j  0.003030-0.000523j   \n",
       "2  0.003340-0.000779j  0.000822-0.003143j -0.001256+0.002029j   \n",
       "3  0.004451-0.002046j  0.002506+0.002054j -0.000670+0.003976j   \n",
       "4  0.002692+0.002852j  0.004880+0.003161j  0.004223-0.004193j   \n",
       "\n",
       "                                                               \n",
       "                    6                   7                   8  \n",
       "0  0.004144+0.002396j  0.000524-0.000344j  0.002867+0.000000j  \n",
       "1  0.002554+0.003053j -0.004849+0.000083j -0.003624+0.005694j  \n",
       "2  0.003001+0.002720j  0.002942-0.000970j -0.002978-0.002164j  \n",
       "3  0.002968-0.001034j  0.002251+0.002068j -0.000303+0.004345j  \n",
       "4 -0.004945-0.000350j -0.000013-0.000993j -0.000790-0.003773j  "
      ]
     },
     "execution_count": 12,
     "metadata": {},
     "output_type": "execute_result"
    }
   ],
   "source": [
    "coeffs.head()"
   ]
  },
  {
   "cell_type": "code",
   "execution_count": 16,
   "id": "6e637a65-ee54-4205-be2e-bb42061c82ed",
   "metadata": {},
   "outputs": [
    {
     "data": {
      "text/plain": [
       "(0.0014497182519028274-0.0007036135869504858j)"
      ]
     },
     "execution_count": 16,
     "metadata": {},
     "output_type": "execute_result"
    }
   ],
   "source": [
    "coeffs[\"sig_a\", 1][0]"
   ]
  },
  {
   "cell_type": "code",
   "execution_count": null,
   "id": "11c0a32e-4258-4043-b359-d3c41d90a67b",
   "metadata": {},
   "outputs": [],
   "source": [
    "[print(k, c.shape) for k, c in coeffs.items()]\n",
    "print(stacked.shape)\n",
    "first = next(iter(coeffs.values()))\n",
    "r, c = first.shape\n",
    "col_idx = pd.MultiIndex.from_product(\n",
    "    (coeffs.keys(), range(c)))\n",
    "assert len(col_idx) == c*len(coeffs.keys())\n",
    "demod_df = pd.DataFrame(stacked, index=np.arange(r), columns=col_idx)"
   ]
  },
  {
   "cell_type": "code",
   "execution_count": null,
   "id": "a6051722-2052-4844-9fcc-578a643f53ef",
   "metadata": {},
   "outputs": [],
   "source": [
    "assert type(demod_df) == pd.DataFrame\n",
    "assert demod_df.co"
   ]
  },
  {
   "cell_type": "code",
   "execution_count": null,
   "id": "cbcb911f-7516-4613-a74b-e32c66ec24e9",
   "metadata": {},
   "outputs": [],
   "source": [
    "demod_df.columns.get_level_values(0).drop_duplicates()"
   ]
  },
  {
   "cell_type": "code",
   "execution_count": null,
   "id": "05bf9a0d-057b-4fc6-b792-4dbfa70d8222",
   "metadata": {},
   "outputs": [],
   "source": [
    "demod_df[\"sig_a\"] == coeffs[\"sig_a\"]"
   ]
  },
  {
   "cell_type": "code",
   "execution_count": 9,
   "id": "b9cf8064-7b17-4a95-83da-257e83dfcc58",
   "metadata": {},
   "outputs": [],
   "source": [
    "nsig = 1\n",
    "npts = 50_000\n",
    "signals = np.random.randn(nsig, npts)\n",
    "tap_p = np.random.uniform(-np.pi, np.pi, npts)\n",
    "ref_p = np.random.uniform(-np.pi, np.pi, npts)\n",
    "dat = np.vstack((\n",
    "    signals,\n",
    "    np.cos(tap_p), \n",
    "    np.sin(tap_p),\n",
    "    np.cos(ref_p),\n",
    "    np.sin(ref_p),\n",
    ")).T\n",
    "assert dat.shape == (npts, nsig + 4)\n",
    "names = \"sig_a, tap_x, tap_y, ref_x, ref_y\".split(\", \")\n",
    "df = pd.DataFrame(dat, columns=names)\n",
    "binned = demod.pshet_binning(df)\n",
    "coeffs = demod.pshet(df)\n",
    "assert coeffs.shape[0] == 32\n",
    "assert coeffs.shape[1] == (16//2+1)*nsig"
   ]
  },
  {
   "cell_type": "code",
   "execution_count": null,
   "id": "dbe3d847-3a3c-47f4-b54a-f4a6b4a405a3",
   "metadata": {},
   "outputs": [],
   "source": [
    "demod_df[\"sig_a\"]"
   ]
  },
  {
   "cell_type": "code",
   "execution_count": 10,
   "id": "7af1521b-cb87-47b1-a656-1a7d6dd90cbd",
   "metadata": {},
   "outputs": [
    {
     "ename": "NameError",
     "evalue": "name 'demod_df' is not defined",
     "output_type": "error",
     "traceback": [
      "\u001b[1;31m---------------------------------------------------------------------------\u001b[0m",
      "\u001b[1;31mNameError\u001b[0m                                 Traceback (most recent call last)",
      "\u001b[1;32m~\\AppData\\Local\\Temp/ipykernel_15412/3029263303.py\u001b[0m in \u001b[0;36m<module>\u001b[1;34m\u001b[0m\n\u001b[1;32m----> 1\u001b[1;33m \u001b[0mdemod_df\u001b[0m\u001b[1;33m\u001b[0m\u001b[1;33m\u001b[0m\u001b[0m\n\u001b[0m",
      "\u001b[1;31mNameError\u001b[0m: name 'demod_df' is not defined"
     ]
    }
   ],
   "source": [
    "demod_df"
   ]
  },
  {
   "cell_type": "code",
   "execution_count": null,
   "id": "b3dc0a4d-a002-4d21-829c-8c396549a222",
   "metadata": {},
   "outputs": [],
   "source": []
  }
 ],
 "metadata": {
  "kernelspec": {
   "display_name": "Python 3 (ipykernel)",
   "language": "python",
   "name": "python3"
  },
  "language_info": {
   "codemirror_mode": {
    "name": "ipython",
    "version": 3
   },
   "file_extension": ".py",
   "mimetype": "text/x-python",
   "name": "python",
   "nbconvert_exporter": "python",
   "pygments_lexer": "ipython3",
   "version": "3.9.6"
  }
 },
 "nbformat": 4,
 "nbformat_minor": 5
}
