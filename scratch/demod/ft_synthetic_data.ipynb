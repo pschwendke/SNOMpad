{
 "cells": [
  {
   "cell_type": "code",
   "execution_count": 33,
   "id": "a7779f24-e4a8-4545-af1c-b205d33c3040",
   "metadata": {},
   "outputs": [],
   "source": [
    "import numpy as np\n",
    "import matplotlib.pyplot as plt\n",
    "from trion.analysis.demod import bin_midpoints, dft_naive"
   ]
  },
  {
   "cell_type": "code",
   "execution_count": 2,
   "id": "8d12bb8d-5175-49d1-b51a-e948ef9550de",
   "metadata": {},
   "outputs": [],
   "source": [
    "%matplotlib ipympl"
   ]
  },
  {
   "cell_type": "code",
   "execution_count": 57,
   "id": "e21bee4d-ec70-4372-a589-93e9942faf82",
   "metadata": {},
   "outputs": [],
   "source": [
    "npts = 1000\n",
    "amps = np.array([0, 1, 0, 0, 0, 0, 0])"
   ]
  },
  {
   "cell_type": "code",
   "execution_count": 58,
   "id": "1075af4a-a183-44a2-9be1-ad8c4de6ebac",
   "metadata": {},
   "outputs": [],
   "source": [
    "phi = np.random.uniform(-np.pi, np.pi, npts) # random numbers = bad\n",
    "phi = bin_midpoints(npts)"
   ]
  },
  {
   "cell_type": "code",
   "execution_count": 59,
   "id": "1d9aabbf-b71a-4ad6-9919-26f52fcef9d6",
   "metadata": {},
   "outputs": [],
   "source": [
    "sig = amps[np.newaxis,:] * np.exp(-1j*np.arange(amps.size)[np.newaxis,:]*phi[:,np.newaxis])\n",
    "sig = sig.real.sum(axis=1)"
   ]
  },
  {
   "cell_type": "code",
   "execution_count": 60,
   "id": "bd3af5c3-ef73-41f3-83c9-72ffa0740e32",
   "metadata": {},
   "outputs": [
    {
     "data": {
      "application/vnd.jupyter.widget-view+json": {
       "model_id": "4b7aca456a0240a5910accc66816af3b",
       "version_major": 2,
       "version_minor": 0
      },
      "text/plain": [
       "Canvas(toolbar=Toolbar(toolitems=[('Home', 'Reset original view', 'home', 'home'), ('Back', 'Back to previous …"
      ]
     },
     "metadata": {},
     "output_type": "display_data"
    },
    {
     "data": {
      "text/plain": [
       "[<matplotlib.lines.Line2D at 0x2bc091bbe20>]"
      ]
     },
     "execution_count": 60,
     "metadata": {},
     "output_type": "execute_result"
    }
   ],
   "source": [
    "plt.figure()\n",
    "plt.plot(phi, sig, ',')"
   ]
  },
  {
   "cell_type": "code",
   "execution_count": 61,
   "id": "8ec0d88d-66fa-4f26-9338-87b22c6463cf",
   "metadata": {},
   "outputs": [
    {
     "data": {
      "text/plain": [
       "0.0"
      ]
     },
     "execution_count": 61,
     "metadata": {},
     "output_type": "execute_result"
    }
   ],
   "source": [
    "np.mean(sig)"
   ]
  },
  {
   "cell_type": "code",
   "execution_count": 62,
   "id": "707414fc-2bf6-46ac-8f5b-3d34a274794b",
   "metadata": {},
   "outputs": [
    {
     "data": {
      "text/plain": [
       "array([ 0.00199999+0.00000000e+00j,  0.99800002+1.76697482e-17j,\n",
       "        0.00199995+0.00000000e+00j, -0.0019999 +7.06789929e-17j,\n",
       "        0.00199983+0.00000000e+00j, -0.00199974-1.76697482e-17j,\n",
       "        0.00199963+0.00000000e+00j, -0.00199951+1.76697482e-17j])"
      ]
     },
     "execution_count": 62,
     "metadata": {},
     "output_type": "execute_result"
    }
   ],
   "source": [
    "dft_naive(phi, sig, np.arange(0, 8))*2"
   ]
  },
  {
   "cell_type": "code",
   "execution_count": null,
   "id": "af5c3b6c-9b75-4ac9-b1ec-d2c4c5b79891",
   "metadata": {},
   "outputs": [],
   "source": []
  }
 ],
 "metadata": {
  "kernelspec": {
   "display_name": "Python 3 (ipykernel)",
   "language": "python",
   "name": "python3"
  },
  "language_info": {
   "codemirror_mode": {
    "name": "ipython",
    "version": 3
   },
   "file_extension": ".py",
   "mimetype": "text/x-python",
   "name": "python",
   "nbconvert_exporter": "python",
   "pygments_lexer": "ipython3",
   "version": "3.9.6"
  }
 },
 "nbformat": 4,
 "nbformat_minor": 5
}
