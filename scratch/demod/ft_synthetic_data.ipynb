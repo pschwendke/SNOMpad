{
 "cells": [
  {
   "cell_type": "code",
   "execution_count": 1,
   "id": "a7779f24-e4a8-4545-af1c-b205d33c3040",
   "metadata": {},
   "outputs": [],
   "source": [
    "import numpy as np\n",
    "import matplotlib.pyplot as plt\n",
    "from trion.analysis.demod import bin_midpoints, dft_naive"
   ]
  },
  {
   "cell_type": "code",
   "execution_count": 2,
   "id": "8d12bb8d-5175-49d1-b51a-e948ef9550de",
   "metadata": {},
   "outputs": [],
   "source": [
    "%matplotlib ipympl"
   ]
  },
  {
   "cell_type": "code",
   "execution_count": 27,
   "id": "e21bee4d-ec70-4372-a589-93e9942faf82",
   "metadata": {},
   "outputs": [],
   "source": [
    "npts = 100_000\n"
   ]
  },
  {
   "cell_type": "code",
   "execution_count": 35,
   "id": "1075af4a-a183-44a2-9be1-ad8c4de6ebac",
   "metadata": {},
   "outputs": [],
   "source": [
    "def rmserror(npts, nreps=100):\n",
    "    amps = np.array([0, 1, 0, 0, 0, 0, 0])\n",
    "    err = []\n",
    "    for i in range(nreps):\n",
    "        phi = np.random.uniform(-np.pi, np.pi, npts) # random numbers = bad\n",
    "        sig = amps[np.newaxis,:] * np.exp(-1j*np.arange(amps.size)[np.newaxis,:]*phi[:,np.newaxis])\n",
    "        sig = sig.real.sum(axis=1)\n",
    "        harm = dft_naive(phi, sig, np.arange(0, len(amps)))\n",
    "        err.append(np.abs(amps-harm)**2)\n",
    "    return np.sqrt(np.mean(err))\n",
    "#phi = bin_midpoints(npts)"
   ]
  },
  {
   "cell_type": "code",
   "execution_count": 34,
   "id": "1d9aabbf-b71a-4ad6-9919-26f52fcef9d6",
   "metadata": {},
   "outputs": [],
   "source": [
    "sig = amps[np.newaxis,:] * np.exp(-1j*np.arange(amps.size)[np.newaxis,:]*phi[:,np.newaxis])\n",
    "sig = sig.real.sum(axis=1)\n",
    "harm = dft_naive(phi, sig, np.arange(0, len(amps)))"
   ]
  },
  {
   "cell_type": "code",
   "execution_count": 37,
   "id": "8711a4fc-bac0-4609-b41d-cbb68ec5beb6",
   "metadata": {},
   "outputs": [],
   "source": [
    "npts = [10, 100, 1000, 10000, int(1E5)]\n",
    "err = [rmserror(n) for n in npts]"
   ]
  },
  {
   "cell_type": "code",
   "execution_count": 44,
   "id": "fd4847d0-d8cc-4b73-afd5-abe436ee86f4",
   "metadata": {},
   "outputs": [
    {
     "data": {
      "application/vnd.jupyter.widget-view+json": {
       "model_id": "364bd1e5af0840ff8307ab9745812f94",
       "version_major": 2,
       "version_minor": 0
      },
      "text/plain": [
       "Canvas(toolbar=Toolbar(toolitems=[('Home', 'Reset original view', 'home', 'home'), ('Back', 'Back to previous …"
      ]
     },
     "metadata": {},
     "output_type": "display_data"
    }
   ],
   "source": [
    "plt.figure()\n",
    "plt.plot(npts, err)\n",
    "plt.plot(npts, 1/np.array(npts)**1)\n",
    "plt.yscale(\"log\")\n",
    "plt.xscale(\"log\")"
   ]
  },
  {
   "cell_type": "code",
   "execution_count": 31,
   "id": "4be445c4-bbda-4e79-ad6f-947b8ac5e3f9",
   "metadata": {},
   "outputs": [
    {
     "data": {
      "text/plain": [
       "1.2412960769981743e-09"
      ]
     },
     "execution_count": 31,
     "metadata": {},
     "output_type": "execute_result"
    }
   ],
   "source": [
    "np.max(np.abs(harm - amps))"
   ]
  },
  {
   "cell_type": "code",
   "execution_count": 32,
   "id": "9d9f5063-e8aa-4c9f-805a-3d19475d872c",
   "metadata": {},
   "outputs": [
    {
     "data": {
      "text/plain": [
       "True"
      ]
     },
     "execution_count": 32,
     "metadata": {},
     "output_type": "execute_result"
    }
   ],
   "source": [
    "np.allclose(amps, harm, atol=1E-4)"
   ]
  },
  {
   "cell_type": "code",
   "execution_count": 10,
   "id": "bd3af5c3-ef73-41f3-83c9-72ffa0740e32",
   "metadata": {},
   "outputs": [
    {
     "data": {
      "application/vnd.jupyter.widget-view+json": {
       "model_id": "d558f110b6cf4385a13cb4d2c3d07bbc",
       "version_major": 2,
       "version_minor": 0
      },
      "text/plain": [
       "Canvas(toolbar=Toolbar(toolitems=[('Home', 'Reset original view', 'home', 'home'), ('Back', 'Back to previous …"
      ]
     },
     "metadata": {},
     "output_type": "display_data"
    },
    {
     "data": {
      "text/plain": [
       "[<matplotlib.lines.Line2D at 0x2816d171400>]"
      ]
     },
     "execution_count": 10,
     "metadata": {},
     "output_type": "execute_result"
    }
   ],
   "source": [
    "plt.figure()\n",
    "plt.plot(phi, sig, '.')"
   ]
  },
  {
   "cell_type": "code",
   "execution_count": 11,
   "id": "8ec0d88d-66fa-4f26-9338-87b22c6463cf",
   "metadata": {},
   "outputs": [
    {
     "data": {
      "text/plain": [
       "0.016692561360306845"
      ]
     },
     "execution_count": 11,
     "metadata": {},
     "output_type": "execute_result"
    }
   ],
   "source": [
    "np.mean(sig)"
   ]
  },
  {
   "cell_type": "code",
   "execution_count": null,
   "id": "707414fc-2bf6-46ac-8f5b-3d34a274794b",
   "metadata": {},
   "outputs": [],
   "source": []
  },
  {
   "cell_type": "code",
   "execution_count": null,
   "id": "af5c3b6c-9b75-4ac9-b1ec-d2c4c5b79891",
   "metadata": {},
   "outputs": [],
   "source": []
  }
 ],
 "metadata": {
  "kernelspec": {
   "display_name": "Python 3 (ipykernel)",
   "language": "python",
   "name": "python3"
  },
  "language_info": {
   "codemirror_mode": {
    "name": "ipython",
    "version": 3
   },
   "file_extension": ".py",
   "mimetype": "text/x-python",
   "name": "python",
   "nbconvert_exporter": "python",
   "pygments_lexer": "ipython3",
   "version": "3.9.6"
  }
 },
 "nbformat": 4,
 "nbformat_minor": 5
}
