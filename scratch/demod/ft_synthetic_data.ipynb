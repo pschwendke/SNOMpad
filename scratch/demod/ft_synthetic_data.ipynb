{
 "cells": [
  {
   "cell_type": "code",
   "execution_count": 15,
   "id": "a7779f24-e4a8-4545-af1c-b205d33c3040",
   "metadata": {},
   "outputs": [],
   "source": [
    "import numpy as np\n",
    "import matplotlib.pyplot as plt\n",
    "from trion.analysis.demod import bin_midpoints, dft_naive, shd_binning, shd_ft, shd\n",
    "import pandas as pd"
   ]
  },
  {
   "cell_type": "code",
   "execution_count": 7,
   "id": "8d12bb8d-5175-49d1-b51a-e948ef9550de",
   "metadata": {},
   "outputs": [],
   "source": [
    "%matplotlib ipympl"
   ]
  },
  {
   "cell_type": "code",
   "execution_count": 8,
   "id": "e21bee4d-ec70-4372-a589-93e9942faf82",
   "metadata": {},
   "outputs": [],
   "source": [
    "npts = 100_00\n",
    "amps = np.array([[0, 1, 1j, 0, 0, 0, 0],\n",
    "                 [2, 0, 1, 1+1j, 0,0,0]])\n",
    "# amps = np.array([0, 1, 1j, 0, 0, 0, 0])"
   ]
  },
  {
   "cell_type": "code",
   "execution_count": 16,
   "id": "629f0833-21eb-4cbc-8263-d1140b3e2e3f",
   "metadata": {},
   "outputs": [],
   "source": [
    "phi = np.random.uniform(-np.pi, np.pi, npts) # random numbers = bad\n",
    "amps = np.atleast_2d(amps)\n",
    "sig = amps * np.exp(-1j*np.arange(amps.shape[-1])[np.newaxis,np.newaxis,:]*phi[:,np.newaxis,np.newaxis])  # axis 0 is pts, axis 1? is signal axis -1 is order\n",
    "sig_s = sig.real.sum(axis=-1)\n",
    "df = pd.DataFrame(data=dict(sig_a = sig_s[:,0], sig_b = sig_s[:,1], tap_x=np.cos(phi), tap_y=np.sin(phi)))"
   ]
  },
  {
   "cell_type": "code",
   "execution_count": 19,
   "id": "824acb28-96e2-4128-a222-f46d30c04776",
   "metadata": {},
   "outputs": [
    {
     "data": {
      "text/plain": [
       "(17, 2)"
      ]
     },
     "execution_count": 19,
     "metadata": {},
     "output_type": "execute_result"
    }
   ],
   "source": [
    "shd(df, tap_nbins=).shape"
   ]
  },
  {
   "cell_type": "code",
   "execution_count": 10,
   "id": "fad72ad4-2d38-470a-a45e-24eb9052cf0d",
   "metadata": {},
   "outputs": [
    {
     "data": {
      "text/plain": [
       "(10000, 2)"
      ]
     },
     "execution_count": 10,
     "metadata": {},
     "output_type": "execute_result"
    }
   ],
   "source": [
    "sig_s.shape"
   ]
  },
  {
   "cell_type": "code",
   "execution_count": 19,
   "id": "1075af4a-a183-44a2-9be1-ad8c4de6ebac",
   "metadata": {},
   "outputs": [],
   "source": [
    "\n",
    "assert sig_s.shape == (npts, amps.shape[0])# axis 0 is pts, axis 1 is signal\n",
    "harm = dft_naive(phi, sig_s, np.arange(0, amps.shape[1]))\n",
    "#err.append(np.abs(amps-harm)**2)\n",
    "#return np.sqrt(np.mean(err))\n",
    "#phi = bin_midpoints(npts)"
   ]
  },
  {
   "cell_type": "code",
   "execution_count": 23,
   "id": "14604789-6295-4983-944b-e72d9a511eee",
   "metadata": {},
   "outputs": [
    {
     "data": {
      "text/plain": [
       "(2, 7)"
      ]
     },
     "execution_count": 23,
     "metadata": {},
     "output_type": "execute_result"
    }
   ],
   "source": [
    "harm.shape"
   ]
  },
  {
   "cell_type": "code",
   "execution_count": 22,
   "id": "c6e97934-b6e2-49b1-af03-b687db62d3bb",
   "metadata": {},
   "outputs": [
    {
     "ename": "NameError",
     "evalue": "name 'orders' is not defined",
     "output_type": "error",
     "traceback": [
      "\u001b[1;31m---------------------------------------------------------------------------\u001b[0m",
      "\u001b[1;31mNameError\u001b[0m                                 Traceback (most recent call last)",
      "\u001b[1;32m~\\AppData\\Local\\Temp/ipykernel_13548/3658998717.py\u001b[0m in \u001b[0;36m<module>\u001b[1;34m\u001b[0m\n\u001b[0;32m      8\u001b[0m \u001b[0mphi_s\u001b[0m\u001b[1;33m[\u001b[0m\u001b[1;33m-\u001b[0m\u001b[1;36m1\u001b[0m\u001b[1;33m]\u001b[0m \u001b[1;33m+=\u001b[0m \u001b[1;36m2\u001b[0m \u001b[1;33m*\u001b[0m \u001b[0mnp\u001b[0m\u001b[1;33m.\u001b[0m\u001b[0mpi\u001b[0m\u001b[1;33m\u001b[0m\u001b[1;33m\u001b[0m\u001b[0m\n\u001b[0;32m      9\u001b[0m intgr = np.trapz(\n\u001b[1;32m---> 10\u001b[1;33m     \u001b[0mnp\u001b[0m\u001b[1;33m.\u001b[0m\u001b[0mexp\u001b[0m\u001b[1;33m(\u001b[0m\u001b[1;36m1j\u001b[0m\u001b[1;33m*\u001b[0m\u001b[0mphi_s\u001b[0m\u001b[1;33m[\u001b[0m\u001b[0mnp\u001b[0m\u001b[1;33m.\u001b[0m\u001b[0mnewaxis\u001b[0m\u001b[1;33m,\u001b[0m \u001b[1;33m:\u001b[0m\u001b[1;33m]\u001b[0m\u001b[1;33m*\u001b[0m\u001b[0morders\u001b[0m\u001b[1;33m[\u001b[0m\u001b[1;33m:\u001b[0m\u001b[1;33m,\u001b[0m \u001b[0mnp\u001b[0m\u001b[1;33m.\u001b[0m\u001b[0mnewaxis\u001b[0m\u001b[1;33m]\u001b[0m\u001b[1;33m)\u001b[0m\u001b[1;33m[\u001b[0m\u001b[0mnp\u001b[0m\u001b[1;33m.\u001b[0m\u001b[0mnewaxis\u001b[0m\u001b[1;33m,\u001b[0m\u001b[1;33m:\u001b[0m\u001b[1;33m,\u001b[0m\u001b[1;33m:\u001b[0m\u001b[1;33m]\u001b[0m\u001b[1;33m*\u001b[0m\u001b[0my_s\u001b[0m\u001b[1;33m[\u001b[0m\u001b[1;33m:\u001b[0m\u001b[1;33m,\u001b[0m\u001b[0mnp\u001b[0m\u001b[1;33m.\u001b[0m\u001b[0mnewaxis\u001b[0m\u001b[1;33m,\u001b[0m\u001b[1;33m:\u001b[0m\u001b[1;33m]\u001b[0m\u001b[1;33m,\u001b[0m\u001b[1;33m\u001b[0m\u001b[1;33m\u001b[0m\u001b[0m\n\u001b[0m\u001b[0;32m     11\u001b[0m     \u001b[0mphi_s\u001b[0m\u001b[1;33m,\u001b[0m\u001b[1;33m\u001b[0m\u001b[1;33m\u001b[0m\u001b[0m\n\u001b[0;32m     12\u001b[0m     \u001b[0maxis\u001b[0m\u001b[1;33m=\u001b[0m\u001b[1;33m-\u001b[0m\u001b[1;36m1\u001b[0m\u001b[1;33m\u001b[0m\u001b[1;33m\u001b[0m\u001b[0m\n",
      "\u001b[1;31mNameError\u001b[0m: name 'orders' is not defined"
     ]
    }
   ],
   "source": [
    "y = sig_s\n",
    "idx = np.argsort(phi).tolist()\n",
    "idx = idx + [idx[0]]  # append last element again\n",
    "# we need to repeat the first elements at the end, so we integrate over the\n",
    "# whole circle, without missing the seam.\n",
    "y_s = y.take(idx, axis=0).T\n",
    "phi_s = phi.take(idx)\n",
    "phi_s[-1] += 2 * np.pi\n",
    "intgr = np.trapz(\n",
    "    np.exp(1j*phi_s[np.newaxis, :]*orders[:, np.newaxis])[np.newaxis,:,:]*y_s[:,np.newaxis,:],\n",
    "    phi_s,\n",
    "    axis=-1\n",
    ")/np.pi\n",
    "intgr[:,orders==0] *= 0.5\n"
   ]
  },
  {
   "cell_type": "code",
   "execution_count": 104,
   "id": "52411968-ae15-4f5f-9430-b144ece1f768",
   "metadata": {},
   "outputs": [
    {
     "data": {
      "text/plain": [
       "(10000, 2)"
      ]
     },
     "execution_count": 104,
     "metadata": {},
     "output_type": "execute_result"
    }
   ],
   "source": [
    "sig_s.shape"
   ]
  },
  {
   "cell_type": "code",
   "execution_count": 93,
   "id": "f55c5f32-b044-4776-ac5c-a98e5b73dcab",
   "metadata": {},
   "outputs": [
    {
     "data": {
      "text/plain": [
       "(2, 1, 10001)"
      ]
     },
     "execution_count": 93,
     "metadata": {},
     "output_type": "execute_result"
    }
   ],
   "source": [
    "y_s[:,np.newaxis,:].shape"
   ]
  },
  {
   "cell_type": "code",
   "execution_count": 92,
   "id": "f9a68014-47c8-4549-be17-d4bbdbbf1d2c",
   "metadata": {},
   "outputs": [
    {
     "data": {
      "text/plain": [
       "((7, 10001), (2, 10001))"
      ]
     },
     "execution_count": 92,
     "metadata": {},
     "output_type": "execute_result"
    }
   ],
   "source": [
    "np.exp(1j*phi_s[np.newaxis, :]*orders[:, np.newaxis]).shape, y_s.shape"
   ]
  },
  {
   "cell_type": "code",
   "execution_count": 105,
   "id": "e55141c4-cc57-466d-8b25-3c72a9ae9b37",
   "metadata": {},
   "outputs": [
    {
     "data": {
      "text/plain": [
       "(2, 7)"
      ]
     },
     "execution_count": 105,
     "metadata": {},
     "output_type": "execute_result"
    }
   ],
   "source": [
    "intgr.shape"
   ]
  },
  {
   "cell_type": "code",
   "execution_count": 34,
   "id": "1d9aabbf-b71a-4ad6-9919-26f52fcef9d6",
   "metadata": {},
   "outputs": [],
   "source": [
    "sig = amps[np.newaxis,:] * np.exp(-1j*np.arange(amps.size)[np.newaxis,:]*phi[:,np.newaxis])\n",
    "sig = sig.real.sum(axis=1)\n",
    "harm = dft_naive(phi, sig, np.arange(0, len(amps)))"
   ]
  },
  {
   "cell_type": "code",
   "execution_count": 37,
   "id": "8711a4fc-bac0-4609-b41d-cbb68ec5beb6",
   "metadata": {},
   "outputs": [],
   "source": [
    "npts = [10, 100, 1000, 10000, int(1E5)]\n",
    "err = [rmserror(n) for n in npts]"
   ]
  },
  {
   "cell_type": "code",
   "execution_count": 44,
   "id": "fd4847d0-d8cc-4b73-afd5-abe436ee86f4",
   "metadata": {},
   "outputs": [
    {
     "data": {
      "application/vnd.jupyter.widget-view+json": {
       "model_id": "364bd1e5af0840ff8307ab9745812f94",
       "version_major": 2,
       "version_minor": 0
      },
      "text/plain": [
       "Canvas(toolbar=Toolbar(toolitems=[('Home', 'Reset original view', 'home', 'home'), ('Back', 'Back to previous …"
      ]
     },
     "metadata": {},
     "output_type": "display_data"
    }
   ],
   "source": [
    "plt.figure()\n",
    "plt.plot(npts, err)\n",
    "plt.plot(npts, 1/np.array(npts)**1)\n",
    "plt.yscale(\"log\")\n",
    "plt.xscale(\"log\")"
   ]
  },
  {
   "cell_type": "code",
   "execution_count": null,
   "id": "707414fc-2bf6-46ac-8f5b-3d34a274794b",
   "metadata": {},
   "outputs": [],
   "source": []
  },
  {
   "cell_type": "code",
   "execution_count": null,
   "id": "af5c3b6c-9b75-4ac9-b1ec-d2c4c5b79891",
   "metadata": {},
   "outputs": [],
   "source": []
  }
 ],
 "metadata": {
  "kernelspec": {
   "display_name": "Python 3 (ipykernel)",
   "language": "python",
   "name": "python3"
  },
  "language_info": {
   "codemirror_mode": {
    "name": "ipython",
    "version": 3
   },
   "file_extension": ".py",
   "mimetype": "text/x-python",
   "name": "python",
   "nbconvert_exporter": "python",
   "pygments_lexer": "ipython3",
   "version": "3.9.6"
  }
 },
 "nbformat": 4,
 "nbformat_minor": 5
}
