{
 "cells": [
  {
   "cell_type": "code",
   "execution_count": 57,
   "id": "a7779f24-e4a8-4545-af1c-b205d33c3040",
   "metadata": {},
   "outputs": [],
   "source": [
    "import numpy as np\n",
    "import matplotlib.pyplot as plt\n",
    "from trion.analysis.demod import bin_midpoints, dft_naive"
   ]
  },
  {
   "cell_type": "code",
   "execution_count": 58,
   "id": "8d12bb8d-5175-49d1-b51a-e948ef9550de",
   "metadata": {},
   "outputs": [],
   "source": [
    "%matplotlib ipympl"
   ]
  },
  {
   "cell_type": "code",
   "execution_count": 64,
   "id": "e21bee4d-ec70-4372-a589-93e9942faf82",
   "metadata": {},
   "outputs": [],
   "source": [
    "npts = 10000\n",
    "amps = np.array([0, 1, 0, 0, 0, 0, 0])"
   ]
  },
  {
   "cell_type": "code",
   "execution_count": 71,
   "id": "1075af4a-a183-44a2-9be1-ad8c4de6ebac",
   "metadata": {},
   "outputs": [],
   "source": [
    "#phi = np.random.uniform(-np.pi, np.pi, npts) # random numbers = bad\n",
    "phi = bin_midpoints(npts)"
   ]
  },
  {
   "cell_type": "code",
   "execution_count": 66,
   "id": "1d9aabbf-b71a-4ad6-9919-26f52fcef9d6",
   "metadata": {},
   "outputs": [],
   "source": [
    "sig = amps[np.newaxis,:] * np.exp(-1j*np.arange(amps.size)[np.newaxis,:]*phi[:,np.newaxis])\n",
    "sig = sig.real.sum(axis=1)\n",
    "harm = dft_naive(phi, sig, np.arange(0, len(amps)))"
   ]
  },
  {
   "cell_type": "code",
   "execution_count": 73,
   "id": "6baf11df-bae8-41c9-b6d9-a01029024ba2",
   "metadata": {},
   "outputs": [
    {
     "data": {
      "text/plain": [
       "array([3, 0, 1, 2])"
      ]
     },
     "execution_count": 73,
     "metadata": {},
     "output_type": "execute_result"
    }
   ],
   "source": [
    "np.roll(np.arange(4), 1)"
   ]
  },
  {
   "cell_type": "code",
   "execution_count": 77,
   "id": "546a26ab-20f5-4581-a087-37033e48dbe7",
   "metadata": {},
   "outputs": [
    {
     "data": {
      "text/plain": [
       "array([0.00062832, 0.00062832, 0.00062832, ..., 0.00062832, 0.00062832,\n",
       "       0.00062832])"
      ]
     },
     "execution_count": 77,
     "metadata": {},
     "output_type": "execute_result"
    }
   ],
   "source": [
    "df = phi - np.roll(phi, 1)\n",
    "df[0] += 2*np.pi\n",
    "df"
   ]
  },
  {
   "cell_type": "code",
   "execution_count": 68,
   "id": "62371ad0-c1d2-4ee9-84ef-15b705833607",
   "metadata": {},
   "outputs": [
    {
     "data": {
      "text/plain": [
       "False"
      ]
     },
     "execution_count": 68,
     "metadata": {},
     "output_type": "execute_result"
    }
   ],
   "source": [
    "np.allclose(harm, amps)"
   ]
  },
  {
   "cell_type": "code",
   "execution_count": 69,
   "id": "7cdc1ef5-f6d5-44f1-a150-dbbc66dfbe3d",
   "metadata": {},
   "outputs": [],
   "source": [
    "x = (np.random.randn(8)+1j*np.random.randn(8))*np.exp(-np.arange(8)*2)"
   ]
  },
  {
   "cell_type": "code",
   "execution_count": 70,
   "id": "852012fe-da18-4607-94af-32f407d313c5",
   "metadata": {},
   "outputs": [
    {
     "data": {
      "application/vnd.jupyter.widget-view+json": {
       "model_id": "7a18743dd25d45039bb66ecf00b06117",
       "version_major": 2,
       "version_minor": 0
      },
      "text/plain": [
       "Canvas(toolbar=Toolbar(toolitems=[('Home', 'Reset original view', 'home', 'home'), ('Back', 'Back to previous …"
      ]
     },
     "metadata": {},
     "output_type": "display_data"
    }
   ],
   "source": [
    "plt.figure()\n",
    "plt.plot(np.abs(x))\n",
    "plt.yscale(\"log\")"
   ]
  },
  {
   "cell_type": "code",
   "execution_count": 35,
   "id": "bd3af5c3-ef73-41f3-83c9-72ffa0740e32",
   "metadata": {},
   "outputs": [
    {
     "data": {
      "application/vnd.jupyter.widget-view+json": {
       "model_id": "0c1052b4947242728d3aaa9b981fecee",
       "version_major": 2,
       "version_minor": 0
      },
      "text/plain": [
       "Canvas(toolbar=Toolbar(toolitems=[('Home', 'Reset original view', 'home', 'home'), ('Back', 'Back to previous …"
      ]
     },
     "metadata": {},
     "output_type": "display_data"
    },
    {
     "data": {
      "text/plain": [
       "[<matplotlib.lines.Line2D at 0x2664b2e2640>]"
      ]
     },
     "execution_count": 35,
     "metadata": {},
     "output_type": "execute_result"
    }
   ],
   "source": [
    "plt.figure()\n",
    "plt.plot(phi, sig, ',')"
   ]
  },
  {
   "cell_type": "code",
   "execution_count": 41,
   "id": "8ec0d88d-66fa-4f26-9338-87b22c6463cf",
   "metadata": {},
   "outputs": [
    {
     "data": {
      "text/plain": [
       "1.0"
      ]
     },
     "execution_count": 41,
     "metadata": {},
     "output_type": "execute_result"
    }
   ],
   "source": [
    "np.mean(sig)"
   ]
  },
  {
   "cell_type": "code",
   "execution_count": null,
   "id": "707414fc-2bf6-46ac-8f5b-3d34a274794b",
   "metadata": {},
   "outputs": [],
   "source": []
  },
  {
   "cell_type": "code",
   "execution_count": null,
   "id": "af5c3b6c-9b75-4ac9-b1ec-d2c4c5b79891",
   "metadata": {},
   "outputs": [],
   "source": []
  }
 ],
 "metadata": {
  "kernelspec": {
   "display_name": "Python 3 (ipykernel)",
   "language": "python",
   "name": "python3"
  },
  "language_info": {
   "codemirror_mode": {
    "name": "ipython",
    "version": 3
   },
   "file_extension": ".py",
   "mimetype": "text/x-python",
   "name": "python",
   "nbconvert_exporter": "python",
   "pygments_lexer": "ipython3",
   "version": "3.9.6"
  }
 },
 "nbformat": 4,
 "nbformat_minor": 5
}
